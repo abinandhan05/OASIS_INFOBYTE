{
  "cells": [
    {
      "cell_type": "markdown",
      "source": [
        "**OASIS INFOBYTE**\n",
        "\n",
        "**T.S.S. ABINANDHAN KUMAR**\n",
        "\n",
        "**UNEMPLOYMENT ANALYSIS USING PYTHON**"
      ],
      "metadata": {
        "id": "uvPdZlg9fdl5"
      },
      "id": "uvPdZlg9fdl5"
    },
    {
      "cell_type": "markdown",
      "id": "3c5115cb",
      "metadata": {
        "id": "3c5115cb"
      },
      "source": [
        "### Importing Libraries"
      ]
    },
    {
      "cell_type": "code",
      "source": [
        "#from google.colab import drive\n",
        "#drive.mount('/content/drive')"
      ],
      "metadata": {
        "id": "g643z4pmewcz"
      },
      "id": "g643z4pmewcz",
      "execution_count": null,
      "outputs": []
    },
    {
      "cell_type": "code",
      "execution_count": null,
      "id": "73d05992",
      "metadata": {
        "id": "73d05992"
      },
      "outputs": [],
      "source": [
        "import numpy as np\n",
        "import pandas as pd\n",
        "import matplotlib.pyplot as plt\n",
        "import seaborn as sns\n",
        "import plotly.express as px\n",
        "import warnings\n",
        "warnings.filterwarnings('ignore')\n",
        "plt.style.use('fivethirtyeight')"
      ]
    },
    {
      "cell_type": "markdown",
      "id": "2b9dd96f",
      "metadata": {
        "id": "2b9dd96f"
      },
      "source": [
        "### 1. Importing Dataset"
      ]
    },
    {
      "cell_type": "code",
      "execution_count": null,
      "id": "795c2a19",
      "metadata": {
        "id": "795c2a19"
      },
      "outputs": [],
      "source": [
        "df = pd.read_csv('/content/drive/MyDrive/Unemployment in India.csv')\n",
        "df = pd.read_csv('/content/drive/MyDrive/Unemployment_Rate_upto_11_2020.csv')"
      ]
    },
    {
      "cell_type": "code",
      "execution_count": null,
      "id": "7d12557b",
      "metadata": {
        "id": "7d12557b"
      },
      "outputs": [],
      "source": [
        "# Preview of Data\n",
        "df.sample(7)"
      ]
    },
    {
      "cell_type": "code",
      "execution_count": null,
      "id": "2c820a23",
      "metadata": {
        "id": "2c820a23"
      },
      "outputs": [],
      "source": [
        "# How big is the data?\n",
        "df.shape"
      ]
    },
    {
      "cell_type": "code",
      "execution_count": null,
      "id": "ab7fba10",
      "metadata": {
        "id": "ab7fba10"
      },
      "outputs": [],
      "source": [
        "# To statistics about the dataset\n",
        "df.describe()"
      ]
    },
    {
      "cell_type": "code",
      "execution_count": null,
      "id": "4da940e7",
      "metadata": {
        "id": "4da940e7"
      },
      "outputs": [],
      "source": [
        "# Basic info about the data type\n",
        "df.info()"
      ]
    },
    {
      "cell_type": "markdown",
      "id": "d36ca786",
      "metadata": {
        "id": "d36ca786"
      },
      "source": [
        "### 2. Preprocessing of Dataset"
      ]
    },
    {
      "cell_type": "code",
      "execution_count": null,
      "id": "612a63ee",
      "metadata": {
        "id": "612a63ee"
      },
      "outputs": [],
      "source": [
        "# Check the null values\n",
        "df.isnull().sum()"
      ]
    },
    {
      "cell_type": "code",
      "execution_count": null,
      "id": "54d55db2",
      "metadata": {
        "id": "54d55db2"
      },
      "outputs": [],
      "source": [
        "# Rename the columns\n",
        "df.columns=['States','Date','Frequency','Estimated Unemployment Rate','Estimated Employed','Estimated Labour Participation Rate','Region','longitude','latitude']"
      ]
    },
    {
      "cell_type": "code",
      "execution_count": null,
      "id": "e18cee2f",
      "metadata": {
        "id": "e18cee2f"
      },
      "outputs": [],
      "source": [
        "df.head()"
      ]
    },
    {
      "cell_type": "markdown",
      "id": "c584a681",
      "metadata": {
        "id": "c584a681"
      },
      "source": [
        "### Exploratory Data Analysis"
      ]
    },
    {
      "cell_type": "markdown",
      "id": "af82767c",
      "metadata": {
        "id": "af82767c"
      },
      "source": [
        "#### a. Univariate Analysis"
      ]
    },
    {
      "cell_type": "code",
      "execution_count": null,
      "id": "ffa46b7d",
      "metadata": {
        "id": "ffa46b7d"
      },
      "outputs": [],
      "source": [
        "# On categorical data (Region) using countplot\n",
        "sns.countplot(x=df['Region'])\n",
        "print(df['Region'].value_counts())"
      ]
    },
    {
      "cell_type": "code",
      "execution_count": null,
      "id": "9a9fe68b",
      "metadata": {
        "id": "9a9fe68b"
      },
      "outputs": [],
      "source": [
        "# On categorical data (States) using countplot\n",
        "sns.countplot(y=df['States'])\n",
        "print(df['States'].value_counts())"
      ]
    },
    {
      "cell_type": "code",
      "execution_count": null,
      "id": "e498b8f0",
      "metadata": {
        "id": "e498b8f0"
      },
      "outputs": [],
      "source": [
        "# On categorical data (Frequency) using countplot\n",
        "sns.countplot(x=df['Frequency'])\n",
        "print(df['Frequency'].value_counts())"
      ]
    },
    {
      "cell_type": "code",
      "execution_count": null,
      "id": "ab86d027",
      "metadata": {
        "id": "ab86d027"
      },
      "outputs": [],
      "source": [
        "# On numerical data (Estimated Unemployment Rate) using histogram\n",
        "sns.histplot(x=df['Estimated Unemployment Rate'])"
      ]
    },
    {
      "cell_type": "code",
      "execution_count": null,
      "id": "40c21a15",
      "metadata": {
        "id": "40c21a15"
      },
      "outputs": [],
      "source": [
        "# On numerical data (Estimated Employed) using histogram\n",
        "sns.distplot(x=df['Estimated Employed'])"
      ]
    },
    {
      "cell_type": "code",
      "execution_count": null,
      "id": "97bb9786",
      "metadata": {
        "id": "97bb9786"
      },
      "outputs": [],
      "source": [
        "# On numerical data (Estimated Labour Participation Rate) using boxplot\n",
        "sns.boxplot(x=df['Estimated Labour Participation Rate'])"
      ]
    },
    {
      "cell_type": "code",
      "execution_count": null,
      "id": "f452ae68",
      "metadata": {
        "id": "f452ae68"
      },
      "outputs": [],
      "source": [
        "# Minimum Value\n",
        "print('Minimum Value of Estimated Unemployment Rate is: ',df['Estimated Unemployment Rate'].min())\n",
        "print('Minimum Value of Estimated Employed Rate is: ',df['Estimated Employed'].min())\n",
        "print('Minimum Value of Estimated Labour Participation Rate is: ',df['Estimated Labour Participation Rate'].min())"
      ]
    },
    {
      "cell_type": "code",
      "execution_count": null,
      "id": "12c4b338",
      "metadata": {
        "id": "12c4b338"
      },
      "outputs": [],
      "source": [
        "# Maximum Value\n",
        "print('Maximum Value of Estimated Unemployment Rate is: ',df['Estimated Unemployment Rate'].max())\n",
        "print('Maximum Value of Estimated Employed Rate is: ',df['Estimated Employed'].max())\n",
        "print('Maximum Value of Estimated Labour Participation Rate is: ',df['Estimated Labour Participation Rate'].max())"
      ]
    },
    {
      "cell_type": "code",
      "execution_count": null,
      "id": "b8a415b6",
      "metadata": {
        "id": "b8a415b6"
      },
      "outputs": [],
      "source": [
        "# Mean value\n",
        "# Minimum Value\n",
        "print('Mean Value of Estimated Unemployment Rate is: ',df['Estimated Unemployment Rate'].mean())\n",
        "print('Mean Value of Estimated Employed Rate is: ',df['Estimated Employed'].mean())\n",
        "print('Mean Value of Estimated Labour Participation Rate is: ',df['Estimated Labour Participation Rate'].mean())"
      ]
    },
    {
      "cell_type": "markdown",
      "id": "6a8ac4d5",
      "metadata": {
        "id": "6a8ac4d5"
      },
      "source": [
        "#### b. Multivariate Analysis"
      ]
    },
    {
      "cell_type": "code",
      "execution_count": null,
      "id": "a944e5ed",
      "metadata": {
        "id": "a944e5ed"
      },
      "outputs": [],
      "source": [
        "# Plot a scatter plot between Estimated Unemployment Rate and Estimated Employed with hue parameter\n",
        "sns.relplot(x='Estimated Unemployment Rate',y='Estimated Employed',hue='Region',data=df)\n",
        "plt.title(\"Indian Unemployment\")"
      ]
    },
    {
      "cell_type": "code",
      "execution_count": null,
      "id": "02549fbb",
      "metadata": {
        "id": "02549fbb"
      },
      "outputs": [],
      "source": [
        "# Categorical Scatter plot between Region and Estimated Unemployment Rate (x-axis=> Categorical, y-axis=> Numerical)\n",
        "sns.catplot(x='Region',y='Estimated Unemployment Rate',kind='strip',data=df)"
      ]
    },
    {
      "cell_type": "code",
      "execution_count": null,
      "id": "5557fd08",
      "metadata": {
        "id": "5557fd08"
      },
      "outputs": [],
      "source": [
        "# Categorical Scatter plot between Region and Estimated Employed (x-axis=> Categorical, y-axis=> Numerical)\n",
        "sns.catplot(x='Region',y='Estimated Employed',kind='swarm',data=df)"
      ]
    },
    {
      "cell_type": "code",
      "execution_count": null,
      "id": "fe7c1c97",
      "metadata": {
        "id": "fe7c1c97"
      },
      "outputs": [],
      "source": [
        "# Categorical Scatter plot between Region and Estimated Labour Participation Rate (x-axis=> Categorical, y-axis=> Numerical)\n",
        "sns.catplot(x='Region',y='Estimated Labour Participation Rate',kind='box',data=df)"
      ]
    },
    {
      "cell_type": "code",
      "execution_count": null,
      "id": "205b17bb",
      "metadata": {
        "id": "205b17bb"
      },
      "outputs": [],
      "source": [
        "unemployment = df[['States','Region','Estimated Unemployment Rate']]\n",
        "figure = px.sunburst(unemployment, path=['Region','States'], values='Estimated Unemployment Rate', width=700, height=700, color_continuous_scale=\"RdY1Gn\", title='Unemployment Rate in India')\n",
        "figure.show()"
      ]
    },
    {
      "cell_type": "markdown",
      "id": "26ac3490",
      "metadata": {
        "id": "26ac3490"
      },
      "source": [
        "### 4. Correlation Matrix\n",
        "A correlation matrix is a table sjowing correlation coefficients between variables. Each cell in the table shows the correlation between two variables. The value is in the range of -1 to 1. If two variables have high correlation, we can neglect one variable from those two."
      ]
    },
    {
      "cell_type": "code",
      "execution_count": null,
      "id": "e0f31b68",
      "metadata": {
        "id": "e0f31b68"
      },
      "outputs": [],
      "source": [
        "df.corr()"
      ]
    },
    {
      "cell_type": "code",
      "execution_count": null,
      "id": "da4f37a9",
      "metadata": {
        "id": "da4f37a9"
      },
      "outputs": [],
      "source": [
        "corr = df.corr()\n",
        "fig, ax = plt.subplots(figsize=(5,5))\n",
        "sns.heatmap(corr,annot=True, ax=ax,cmap='summer')"
      ]
    }
  ],
  "metadata": {
    "kernelspec": {
      "display_name": "Python 3 (ipykernel)",
      "language": "python",
      "name": "python3"
    },
    "language_info": {
      "codemirror_mode": {
        "name": "ipython",
        "version": 3
      },
      "file_extension": ".py",
      "mimetype": "text/x-python",
      "name": "python",
      "nbconvert_exporter": "python",
      "pygments_lexer": "ipython3",
      "version": "3.9.0"
    },
    "colab": {
      "provenance": []
    }
  },
  "nbformat": 4,
  "nbformat_minor": 5
}